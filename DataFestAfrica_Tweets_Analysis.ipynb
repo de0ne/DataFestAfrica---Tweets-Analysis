{
  "cells": [
    {
      "cell_type": "markdown",
      "id": "01bd0a01",
      "metadata": {
        "id": "01bd0a01"
      },
      "source": [
        "# DataFestAfrica - Tweets Analysis"
      ]
    },
    {
      "cell_type": "markdown",
      "id": "717954d7",
      "metadata": {
        "id": "717954d7"
      },
      "source": [
        "## Introduction"
      ]
    },
    {
      "cell_type": "markdown",
      "source": [
        "DataFestAfrica 2022 was the first ever event that showcase all career professions within the data space in Africa. The event was on the 14th and 15th of October 2022 at the University of Lagos, Akoka-Yaba, Nigeria. The event sent twitter buzzing and got everyone talking about it. \n",
        "\n",
        "To further dive deep into what people were saying about the event, I used the Tweepy API to gather tweets from twitter using the hashtags - DFA22, DataFestAfrica, DataFestAfrica22 and DataFestAfrica2022 - and carried out an analyss of the tweets."
      ],
      "metadata": {
        "id": "isbDF95econT"
      },
      "id": "isbDF95econT"
    },
    {
      "cell_type": "markdown",
      "id": "59ed4f55",
      "metadata": {
        "id": "59ed4f55"
      },
      "source": [
        "## Contents"
      ]
    },
    {
      "cell_type": "markdown",
      "id": "9ce8c9fc",
      "metadata": {
        "id": "9ce8c9fc"
      },
      "source": [
        "1. Introduction\n",
        "\n",
        "\n",
        "2. Import libraries\n",
        "\n",
        "\n",
        "3. Tweets mining\n",
        "\n",
        "\n",
        "4. Data Cleaning\n",
        "\n",
        "\n",
        "5. Tweets processing\n",
        "\n",
        "\n",
        "6. Exploratory Analysis\n",
        "\n",
        "\n",
        "7. Sentiment Analysis\n",
        "\n",
        "\n",
        "8. Conclusion"
      ]
    },
    {
      "cell_type": "markdown",
      "id": "59bd690f",
      "metadata": {
        "id": "59bd690f"
      },
      "source": [
        "## Import libraries"
      ]
    },
    {
      "cell_type": "markdown",
      "source": [
        "The first thing I did was to import the necessary libraries for the analysis"
      ],
      "metadata": {
        "id": "rAAK9SJDk7up"
      },
      "id": "rAAK9SJDk7up"
    },
    {
      "cell_type": "code",
      "execution_count": 2,
      "id": "a9b52672",
      "metadata": {
        "id": "a9b52672"
      },
      "outputs": [],
      "source": [
        "import tweepy #for tweets mining\n",
        "from tweepy import Cursor\n",
        "from csv import writer #for writing csv files\n",
        "import pandas as pd #for data manipulation and analysis\n",
        "import numpy as np #for performing mathematical operations\n",
        "import matplotlib as mpl\n",
        "import matplotlib.pyplot as plt #for visualization\n",
        "import seaborn as sns #for visualization\n",
        "import plotly.express as px #to make express plots in Plotly\n",
        "from plotly.subplots import make_subplots #for making sub_plots\n",
        "import plotly.graph_objects as go\n",
        "from textblob import TextBlob\n",
        "import csv #to read and write csv files\n",
        "import requests #to send requests\n",
        "import re #for text manipulation\n",
        "import nltk #for text manipulation\n",
        "from nltk.tokenize import sent_tokenize, word_tokenize\n",
        "from nltk import pos_tag\n",
        "from nltk.corpus import stopwords #to get stopwords\n",
        "from nltk.tag.perceptron import PerceptronTagger\n",
        "from nltk.corpus import words\n",
        "import string\n",
        "import inspect\n",
        "from PIL import Image #to embed image"
      ]
    },
    {
      "cell_type": "markdown",
      "id": "d746bfd8",
      "metadata": {
        "id": "d746bfd8"
      },
      "source": [
        "### Tweets mining"
      ]
    },
    {
      "cell_type": "markdown",
      "source": [
        "Using my Tweepy API access key and token, I was able to connect to the API and mined tweets from twitter"
      ],
      "metadata": {
        "id": "Mq6-t-9Ql9p8"
      },
      "id": "Mq6-t-9Ql9p8"
    },
    {
      "cell_type": "code",
      "execution_count": null,
      "id": "d6027f9c",
      "metadata": {
        "id": "d6027f9c"
      },
      "outputs": [],
      "source": [
        "#you need a twitter developer account to get access to this, you can create one here developer.twitter.com\n",
        "\n",
        "api_key = 'XXXXXXXXXXXXXXXXXXXXXXXXX'\n",
        "api_secret_key = 'XXXXXXXXXXXXXXXXXXXXXXXXXXXXXXXXXXXXXXXXXXXXXX'\n",
        "access_token_key = 'XXXXXXXXXXXXXXXXXXXXXXXXXXXXXXXXXXXXXXXXXXXXXXXXXX'\n",
        "access_token_secret_key = 'XXXXXXXXXXXXXXXXXXXXXXXXXXXXXXXXXXXXXXXXXXXXXX'"
      ]
    },
    {
      "cell_type": "code",
      "execution_count": null,
      "id": "26024f7e",
      "metadata": {
        "id": "26024f7e"
      },
      "outputs": [],
      "source": [
        "#authenticate with tweepy api\n",
        "\n",
        "auth = tweepy.OAuthHandler(api_key, api_secret_key)\n",
        "auth.set_access_token(access_token_key, access_token_secret_key)\n",
        "\n",
        "api = tweepy.API(auth, wait_on_rate_limit=True)"
      ]
    },
    {
      "cell_type": "code",
      "execution_count": null,
      "id": "66464f84",
      "metadata": {
        "id": "66464f84"
      },
      "outputs": [],
      "source": [
        "#create a function to mine tweets\n",
        "\n",
        "def tweets_mining(csv_file, search_query):\n",
        "  \"\"\"\n",
        "  #create a function to mine tweets\n",
        "    \n",
        "  Arguments:\n",
        "  csv_file -- csv file to save the mined tweets\n",
        "  search_query -- word/phrase to search for\n",
        "        \n",
        "  \"\"\"\n",
        "  with open(csv_file, 'w', encoding='utf8', newline='') as open_csv:\n",
        "      thewriter = writer(open_csv)\n",
        "      header = ['tweet_id', 'created_at', 'tweets', 'location', 'retweets', 'favorites'] #define dataframe header\n",
        "      thewriter.writerow(header) #create dataframe header\n",
        "\n",
        "      for tweet in tweepy.Cursor(api.search,\n",
        "                                  q=search_query,\n",
        "                                  tweet_mode=\"extended\",\n",
        "                                  result_type=\"recent\",\n",
        "                                  lang=\"en\").items(5000):\n",
        "          tweet_id = tweet.id #extract id of tweet\n",
        "          created_at = tweet.created_at #extract time of tweet\n",
        "          tweets = tweet.full_text #extract full text of tweet\n",
        "          location = tweet.user.location #extract user location\n",
        "          retweets = tweet.retweet_count #extract no of retweets\n",
        "          favorites = tweet.favorite_count #extract no of likes\n",
        "          info = [tweet_id, created_at, tweets, location, retweets, favorites] #define dataframe row\n",
        "          thewriter.writerow(info) #create dataframe row"
      ]
    },
    {
      "cell_type": "markdown",
      "source": [
        "For this project, I mined the tweets in two days, the first day was on the 14th of October which was the day 1 of the conference using the following search terms: DataFestAfrica, DataFestAfrica22, DataFestAfrica2022, and DFA22.\n",
        "\n",
        "The second mining was two days after the event - Oct 17th - using the same search terms."
      ],
      "metadata": {
        "id": "XkDv158NR6yL"
      },
      "id": "XkDv158NR6yL"
    },
    {
      "cell_type": "code",
      "source": [
        "#words to search for\n",
        "\n",
        "search_term1 = 'DataFestAfrica'\n",
        "search_term2 = 'DataFestAfrica22'\n",
        "search_term3 = 'DataFestAfrica2022'\n",
        "search_term4 = 'DFA22'"
      ],
      "metadata": {
        "id": "jeqAMECIRcpm"
      },
      "execution_count": null,
      "outputs": [],
      "id": "jeqAMECIRcpm"
    },
    {
      "cell_type": "code",
      "execution_count": null,
      "id": "c968bcff",
      "metadata": {
        "id": "c968bcff"
      },
      "outputs": [],
      "source": [
        "search_query1 = search_term1 + \" -filter:retweets AND -filter:replies\" \n",
        "\n",
        "tweets_mining('day1_search1.csv', search_query1)"
      ]
    },
    {
      "cell_type": "code",
      "source": [
        "search_query2 = search_term2 + \" -filter:retweets AND -filter:replies\"\n",
        "\n",
        "tweets_mining('day1_search2.csv', search_query2)"
      ],
      "metadata": {
        "id": "E74cXc9mU9sH"
      },
      "id": "E74cXc9mU9sH",
      "execution_count": null,
      "outputs": []
    },
    {
      "cell_type": "code",
      "source": [
        "search_query3 = search_term3 + \" -filter:retweets AND -filter:replies\"\n",
        "\n",
        "tweets_mining('day1_search3.csv', search_query3)"
      ],
      "metadata": {
        "id": "RHeeW9L9U-UP"
      },
      "id": "RHeeW9L9U-UP",
      "execution_count": null,
      "outputs": []
    },
    {
      "cell_type": "code",
      "source": [
        "search_query4 = search_term4 + \" -filter:retweets AND -filter:replies\"\n",
        "\n",
        "tweets_mining('day1_search4.csv', search_query4)"
      ],
      "metadata": {
        "id": "xsNNOGWOU-e4"
      },
      "id": "xsNNOGWOU-e4",
      "execution_count": null,
      "outputs": []
    },
    {
      "cell_type": "code",
      "execution_count": null,
      "id": "deb96952",
      "metadata": {
        "colab": {
          "base_uri": "https://localhost:8080/"
        },
        "id": "deb96952",
        "outputId": "210b5067-0644-404e-b44d-c0c1afb0d421"
      },
      "outputs": [
        {
          "output_type": "stream",
          "name": "stdout",
          "text": [
            "              tweet_id           created_at  \\\n",
            "0  1581028831208493056  2022-10-14 21:07:02   \n",
            "1  1581027112613396480  2022-10-14 21:00:12   \n",
            "2  1581027078182273024  2022-10-14 21:00:04   \n",
            "3  1581025104037052416  2022-10-14 20:52:13   \n",
            "4  1581025082692227072  2022-10-14 20:52:08   \n",
            "\n",
            "                                              tweets          location  \\\n",
            "0  Day 01/ 2 of #DataFestAfrica22.\\n\\nDespite spe...           Nigeria   \n",
            "1  Day 1 ☑️\\nSome key points I took down yea🤗\\n📍Y...    Lagos, Nigeria   \n",
            "2  It's on Sunday I'll tweet my full experience a...         Canigerda   \n",
            "3  Hosting the maiden edition of @DataFestAfrica ...             Tired   \n",
            "4  Day 1 of @DataFestAfrica , I won a 4G Mifi and...  Ile Ife, Nigeria   \n",
            "\n",
            "   retweets  favorites  \n",
            "0         0          0  \n",
            "1         1          9  \n",
            "2         0          1  \n",
            "3         1          8  \n",
            "4         0          1  \n",
            "(691, 6)\n",
            "/n\n",
            "              tweet_id           created_at  \\\n",
            "0  1581028831208493056  2022-10-14 21:07:02   \n",
            "1  1581027078182273024  2022-10-14 21:00:04   \n",
            "2  1581025872634875904  2022-10-14 20:55:16   \n",
            "3  1581024701878788096  2022-10-14 20:50:37   \n",
            "4  1581019180391727107  2022-10-14 20:28:41   \n",
            "\n",
            "                                              tweets        location  \\\n",
            "0  Day 01/ 2 of #DataFestAfrica22.\\n\\nDespite spe...         Nigeria   \n",
            "1  It's on Sunday I'll tweet my full experience a...       Canigerda   \n",
            "2  Clean and tidy data @Ucheanalyst. \\nNo need fo...             NaN   \n",
            "3  Tomorrow is Ankara day for me at #datafestafri...  Lagos, Nigeria   \n",
            "4  I couldn't hold back the excitement of meeting...             NaN   \n",
            "\n",
            "   retweets  favorites  \n",
            "0         0          0  \n",
            "1         0          1  \n",
            "2         0          3  \n",
            "3         0          4  \n",
            "4         0          2  \n",
            "(820, 6)\n",
            "/n\n",
            "              tweet_id           created_at  \\\n",
            "0  1581028429906206721  2022-10-14 21:05:26   \n",
            "1  1581026953233985536  2022-10-14 20:59:34   \n",
            "2  1581025342743285760  2022-10-14 20:53:10   \n",
            "3  1581025082692227072  2022-10-14 20:52:08   \n",
            "4  1581024723068391424  2022-10-14 20:50:42   \n",
            "\n",
            "                                              tweets          location  \\\n",
            "0          We go again tomorrow\\n#datafestafrica2022            Global   \n",
            "1  #datafestafrica2022 gave me the needed informa...               NaN   \n",
            "2  Day 1:\\nMeeting most of the guys for the first...               NaN   \n",
            "3  Day 1 of @DataFestAfrica , I won a 4G Mifi and...  Ile Ife, Nigeria   \n",
            "4  I enjoyed all the sessions at #datafestafrica2...    Lagos, Nigeria   \n",
            "\n",
            "   retweets  favorites  \n",
            "0         0          4  \n",
            "1         0          0  \n",
            "2         4         12  \n",
            "3         0          1  \n",
            "4         0          0  \n",
            "(267, 6)\n",
            "/n\n",
            "              tweet_id           created_at  \\\n",
            "0  1581027112613396480  2022-10-14 21:00:12   \n",
            "1  1581025872634875904  2022-10-14 20:55:16   \n",
            "2  1581024701878788096  2022-10-14 20:50:37   \n",
            "3  1581024098146455553  2022-10-14 20:48:13   \n",
            "4  1581021239984156672  2022-10-14 20:36:52   \n",
            "\n",
            "                                              tweets        location  \\\n",
            "0  Day 1 ☑️\\nSome key points I took down yea🤗\\n📍Y...  Lagos, Nigeria   \n",
            "1  Clean and tidy data @Ucheanalyst. \\nNo need fo...             NaN   \n",
            "2  Tomorrow is Ankara day for me at #datafestafri...  Lagos, Nigeria   \n",
            "3  Day 1 of @DataFestAfrica event went beyond my ...             NaN   \n",
            "4  Day 1 of @DataFestAfrica done with my cute han...           Lagos   \n",
            "\n",
            "   retweets  favorites  \n",
            "0         2         12  \n",
            "1         0          3  \n",
            "2         0          4  \n",
            "3         2         16  \n",
            "4         0          3  \n",
            "(492, 6)\n",
            "/n\n"
          ]
        }
      ],
      "source": [
        "day1_search1 = pd.read_csv('day1_search1.csv')\n",
        "print(day1_search1.head())\n",
        "print(day1_search1.shape)\n",
        "print('/n')\n",
        "\n",
        "day1_search2 = pd.read_csv('day1_search2.csv')\n",
        "print(day1_search2.head())\n",
        "print(day1_search2.shape)\n",
        "print('/n')\n",
        "\n",
        "day1_search3 = pd.read_csv('day1_search3.csv')\n",
        "print(day1_search3.head())\n",
        "print(day1_search3.shape)\n",
        "print('/n')\n",
        "\n",
        "day1_search4 = pd.read_csv('day1_search4.csv')\n",
        "print(day1_search4.head())\n",
        "print(day1_search4.shape)\n",
        "print('/n')"
      ]
    },
    {
      "cell_type": "code",
      "source": [
        "#merge the four datasets\n",
        "datafest_df1 = day1_search1.append(day1_search2).append(day1_search3).append(day1_search4)"
      ],
      "metadata": {
        "id": "MdTPMJUmzwOx"
      },
      "id": "MdTPMJUmzwOx",
      "execution_count": null,
      "outputs": []
    },
    {
      "cell_type": "code",
      "source": [
        "search_query1 = search_term1 + \" -filter:retweets AND -filter:replies\" \n",
        "\n",
        "tweets_mining('day2_search1.csv', search_query1)"
      ],
      "metadata": {
        "id": "8YD95_DGzZaL"
      },
      "id": "8YD95_DGzZaL",
      "execution_count": null,
      "outputs": []
    },
    {
      "cell_type": "code",
      "source": [
        "search_query2 = search_term2 + \" -filter:retweets AND -filter:replies\"\n",
        "\n",
        "tweets_mining('day2_search2.csv', search_query2)"
      ],
      "metadata": {
        "id": "BZ51q4hfzaQB"
      },
      "id": "BZ51q4hfzaQB",
      "execution_count": null,
      "outputs": []
    },
    {
      "cell_type": "code",
      "source": [
        "search_query3 = search_term3 + \" -filter:retweets AND -filter:replies\"\n",
        "\n",
        "tweets_mining('day2_search3.csv', search_query3)"
      ],
      "metadata": {
        "id": "yh7b1SWgzaey"
      },
      "id": "yh7b1SWgzaey",
      "execution_count": null,
      "outputs": []
    },
    {
      "cell_type": "code",
      "source": [
        "search_query4 = search_term4 + \" -filter:retweets AND -filter:replies\"\n",
        "\n",
        "tweets_mining('day2_search4.csv', search_query4)"
      ],
      "metadata": {
        "id": "3uwMo1GMzaus"
      },
      "id": "3uwMo1GMzaus",
      "execution_count": null,
      "outputs": []
    },
    {
      "cell_type": "code",
      "source": [
        "day2_search1 = pd.read_csv('day2_search1.csv')\n",
        "print(day2_search1.head())\n",
        "print(day2_search1.shape)\n",
        "print('/n')\n",
        "\n",
        "day2_search2 = pd.read_csv('day2_search2.csv')\n",
        "print(day2_search2.head())\n",
        "print(day2_search2.shape)\n",
        "print('/n')\n",
        "\n",
        "day2_search3 = pd.read_csv('day2_search3.csv')\n",
        "print(day2_search3.head())\n",
        "print(day2_search3.shape)\n",
        "print('/n')\n",
        "\n",
        "day2_search4 = pd.read_csv('day2_search4.csv')\n",
        "print(day2_search4.head())\n",
        "print(day2_search4.shape)\n",
        "print('/n')"
      ],
      "metadata": {
        "colab": {
          "base_uri": "https://localhost:8080/"
        },
        "id": "-tjDuk8a3E_d",
        "outputId": "ec14061b-26e2-40e9-a81c-645309ac3c02"
      },
      "id": "-tjDuk8a3E_d",
      "execution_count": null,
      "outputs": [
        {
          "output_type": "stream",
          "name": "stdout",
          "text": [
            "              tweet_id           created_at  \\\n",
            "0  1582015191532728322  2022-10-17 14:26:28   \n",
            "1  1582010387506991104  2022-10-17 14:07:23   \n",
            "2  1582003158774972416  2022-10-17 13:38:39   \n",
            "3  1581991364597665795  2022-10-17 12:51:47   \n",
            "4  1581976548726362115  2022-10-17 11:52:55   \n",
            "\n",
            "                                              tweets         location  \\\n",
            "0  So @DataFestAfrica day 2 produced this🤩\\n\\nIt ...          Nigeria   \n",
            "1  It was a great moment for me to meet a cluster...          Nigeria   \n",
            "2  Thank you Lagos.\\n\\nThank you @DataFestAfrica ...          Nigeria   \n",
            "3  Indeed DATA PEOPLE ARE REALLY NICE. Ask @DataF...          Nigeria   \n",
            "4  Volunteering isn't easy but seeing the success...  Surulere, lagos   \n",
            "\n",
            "   retweets  favorites  \n",
            "0         0          4  \n",
            "1         0          0  \n",
            "2         1         77  \n",
            "3         0          4  \n",
            "4         7         27  \n",
            "(1008, 6)\n",
            "/n\n",
            "              tweet_id           created_at  \\\n",
            "0  1582034785551413249  2022-10-17 15:44:20   \n",
            "1  1582026927312773120  2022-10-17 15:13:06   \n",
            "2  1582024678767398913  2022-10-17 15:04:10   \n",
            "3  1582016722197876736  2022-10-17 14:32:33   \n",
            "4  1582015191532728322  2022-10-17 14:26:28   \n",
            "\n",
            "                                              tweets        location  \\\n",
            "0  Still in the #DataFestAfrica22 mood and mode, ...         Nigeria   \n",
            "1  I was at the largest Data Conference in Africa...  Lagos, Nigeria   \n",
            "2  There are a lot of things to take away from #D...  Lagos, Nigeria   \n",
            "3  I really wanted to take pictures with @Rita_ty...         Nigeria   \n",
            "4  So @DataFestAfrica day 2 produced this🤩\\n\\nIt ...         Nigeria   \n",
            "\n",
            "   retweets  favorites  \n",
            "0         0          0  \n",
            "1         0          0  \n",
            "2         0          1  \n",
            "3         0          2  \n",
            "4         0          4  \n",
            "(1356, 6)\n",
            "/n\n",
            "              tweet_id           created_at  \\\n",
            "0  1582007820613865473  2022-10-17 13:57:11   \n",
            "1  1581976447060963328  2022-10-17 11:52:31   \n",
            "2  1581976121029320705  2022-10-17 11:51:13   \n",
            "3  1581968811476979712  2022-10-17 11:22:10   \n",
            "4  1581951854895734786  2022-10-17 10:14:48   \n",
            "\n",
            "                                              tweets        location  \\\n",
            "0  Thanks to organizers of #datafestafrica2022, I...           Lagos   \n",
            "1  I am currently learning Data Analytics . Guys ...  Lagos, Nigeria   \n",
            "2  I didn't attend datafestafrica22  but by God's...  Lagos, Nigeria   \n",
            "3  I'm super glad I made it to #datafestafrica202...              🇳🇬   \n",
            "4  Harnessing the AWS well #100DaysOfCode #100day...             USA   \n",
            "\n",
            "   retweets  favorites  \n",
            "0         0          0  \n",
            "1         0          0  \n",
            "2         0          0  \n",
            "3         0          0  \n",
            "4         9          8  \n",
            "(450, 6)\n",
            "/n\n",
            "              tweet_id           created_at  \\\n",
            "0  1582026927312773120  2022-10-17 15:13:06   \n",
            "1  1582015191532728322  2022-10-17 14:26:28   \n",
            "2  1582003158774972416  2022-10-17 13:38:39   \n",
            "3  1581976548726362115  2022-10-17 11:52:55   \n",
            "4  1581824702464819200  2022-10-17 01:49:32   \n",
            "\n",
            "                                              tweets         location  \\\n",
            "0  I was at the largest Data Conference in Africa...   Lagos, Nigeria   \n",
            "1  So @DataFestAfrica day 2 produced this🤩\\n\\nIt ...          Nigeria   \n",
            "2  Thank you Lagos.\\n\\nThank you @DataFestAfrica ...          Nigeria   \n",
            "3  Volunteering isn't easy but seeing the success...  Surulere, lagos   \n",
            "4  The highpoint of #DFA22 @DataFestAfrica was th...          Nigeria   \n",
            "\n",
            "   retweets  favorites  \n",
            "0         0          0  \n",
            "1         0          4  \n",
            "2         1         77  \n",
            "3         7         27  \n",
            "4         0          0  \n",
            "(765, 6)\n",
            "/n\n"
          ]
        }
      ]
    },
    {
      "cell_type": "code",
      "source": [
        "#merge the four datasets\n",
        "datafest_df2 = day2_search1.append(day2_search2).append(day2_search3).append(day2_search4)"
      ],
      "metadata": {
        "id": "v3H3eFbc2581"
      },
      "id": "v3H3eFbc2581",
      "execution_count": null,
      "outputs": []
    },
    {
      "cell_type": "markdown",
      "id": "7b9d841b",
      "metadata": {
        "id": "7b9d841b"
      },
      "source": [
        "### Data Cleaning"
      ]
    },
    {
      "cell_type": "markdown",
      "source": [
        "I cleaned the data by dropping dupicate rows, filled the null rows in the location columns with 'No location'."
      ],
      "metadata": {
        "id": "xlf9BuL1Bfkq"
      },
      "id": "xlf9BuL1Bfkq"
    },
    {
      "cell_type": "code",
      "source": [
        "#merge the two dataset\n",
        "datafest_df = datafest_df1.append(datafest_df2)\n"
      ],
      "metadata": {
        "id": "v3lLT7_P3_ic"
      },
      "id": "v3lLT7_P3_ic",
      "execution_count": null,
      "outputs": []
    },
    {
      "cell_type": "code",
      "source": [
        "#drop duplicate rows\n",
        "datafest_df = datafest_df.drop_duplicates(subset=['tweet_id'])"
      ],
      "metadata": {
        "id": "kcGhIy0J4fx4"
      },
      "id": "kcGhIy0J4fx4",
      "execution_count": null,
      "outputs": []
    },
    {
      "cell_type": "code",
      "source": [
        "#no of rows and columns\n",
        "datafest_df.shape"
      ],
      "metadata": {
        "colab": {
          "base_uri": "https://localhost:8080/"
        },
        "id": "c57tJzL_4Szp",
        "outputId": "e613782b-bcc0-4e48-b2c7-ac195b93b81f"
      },
      "id": "c57tJzL_4Szp",
      "execution_count": null,
      "outputs": [
        {
          "output_type": "execute_result",
          "data": {
            "text/plain": [
              "(2334, 6)"
            ]
          },
          "metadata": {},
          "execution_count": 29
        }
      ]
    },
    {
      "cell_type": "code",
      "execution_count": null,
      "id": "54045ee6",
      "metadata": {
        "colab": {
          "base_uri": "https://localhost:8080/"
        },
        "id": "54045ee6",
        "outputId": "f9646c05-4c74-47f5-9246-7d80a8e2933d"
      },
      "outputs": [
        {
          "output_type": "execute_result",
          "data": {
            "text/plain": [
              "tweet_id        0\n",
              "created_at      0\n",
              "tweets          0\n",
              "location      187\n",
              "retweets        0\n",
              "favorites       0\n",
              "dtype: int64"
            ]
          },
          "metadata": {},
          "execution_count": 30
        }
      ],
      "source": [
        "datafest_df.isnull().sum() #check for null values"
      ]
    },
    {
      "cell_type": "code",
      "execution_count": null,
      "id": "268f187a",
      "metadata": {
        "id": "268f187a"
      },
      "outputs": [],
      "source": [
        "#fill null values with no location\n",
        "datafest_df['location'] = datafest_df['location'].fillna('No location')"
      ]
    },
    {
      "cell_type": "code",
      "execution_count": null,
      "id": "e168dbf1",
      "metadata": {
        "colab": {
          "base_uri": "https://localhost:8080/"
        },
        "id": "e168dbf1",
        "outputId": "7b5d69dd-78a4-4641-b508-31ed451a4d7b"
      },
      "outputs": [
        {
          "output_type": "execute_result",
          "data": {
            "text/plain": [
              "tweet_id      0\n",
              "created_at    0\n",
              "tweets        0\n",
              "location      0\n",
              "retweets      0\n",
              "favorites     0\n",
              "dtype: int64"
            ]
          },
          "metadata": {},
          "execution_count": 33
        }
      ],
      "source": [
        "datafest_df.isnull().sum() #check for null values"
      ]
    },
    {
      "cell_type": "markdown",
      "id": "af863b88",
      "metadata": {
        "id": "af863b88"
      },
      "source": [
        "### Tweets processing"
      ]
    },
    {
      "cell_type": "markdown",
      "source": [
        "In this section, I created several functions for the tweets processing. The function helped to prepare the tweets for analysis. The following functions were created:\n",
        "1. getHashtags - this function helps to get the hashtags from the tweets column and copy them into a seperate column. How this works is that it finds all the words starting with the hashtag symbol (#), copy them and input them into a new column.\n",
        "2. cleantxt - this function removes links, special characters, emojis, numbers, hyperlinks etc.\n",
        "3. remove_emojis - this function removes emoticons, flags, emojis, pictographs and other image objects.\n",
        "4. process - this function removes stop words which are not needed. Stop words are commonly used words (such as \"the\").\n",
        "\n",
        "These functions (except the process function) were also applied to the location columns so that the output could consist of only textual characters."
      ],
      "metadata": {
        "id": "GgriDu5vyyTM"
      },
      "id": "GgriDu5vyyTM"
    },
    {
      "cell_type": "code",
      "execution_count": null,
      "id": "9591fee7",
      "metadata": {
        "id": "9591fee7"
      },
      "outputs": [],
      "source": [
        "# create a copy of the original dataset\n",
        "datafest_data= datafest_df.copy()"
      ]
    },
    {
      "cell_type": "code",
      "source": [
        "# Define function to get hashtags\n",
        "def getHashtags(text):\n",
        "    text = text.lower()\n",
        "    text = re.findall(r'\\#\\w+',text) #get strings that start with the hashtag(#) symbol\n",
        "    return \" \".join(text)"
      ],
      "metadata": {
        "id": "GY1x1GVTjUBy"
      },
      "id": "GY1x1GVTjUBy",
      "execution_count": null,
      "outputs": []
    },
    {
      "cell_type": "code",
      "source": [
        "# get hashtags into a new column\n",
        "datafest_data['Hashtags'] = datafest_data['tweets'].apply(getHashtags)\n",
        "datafest_data.head()"
      ],
      "metadata": {
        "colab": {
          "base_uri": "https://localhost:8080/",
          "height": 337
        },
        "id": "6Nc3EDtYjuiU",
        "outputId": "8e18e7fa-21c1-48a9-bf10-33d6bef51c0c"
      },
      "id": "6Nc3EDtYjuiU",
      "execution_count": null,
      "outputs": [
        {
          "output_type": "execute_result",
          "data": {
            "text/plain": [
              "              tweet_id           created_at  \\\n",
              "0  1581028831208493056  2022-10-14 21:07:02   \n",
              "1  1581027112613396480  2022-10-14 21:00:12   \n",
              "2  1581027078182273024  2022-10-14 21:00:04   \n",
              "3  1581025104037052416  2022-10-14 20:52:13   \n",
              "4  1581025082692227072  2022-10-14 20:52:08   \n",
              "\n",
              "                                              tweets          location  \\\n",
              "0  Day 01/ 2 of #DataFestAfrica22.\\n\\nDespite spe...           Nigeria   \n",
              "1  Day 1 ☑️\\nSome key points I took down yea🤗\\n📍Y...    Lagos, Nigeria   \n",
              "2  It's on Sunday I'll tweet my full experience a...         Canigerda   \n",
              "3  Hosting the maiden edition of @DataFestAfrica ...             Tired   \n",
              "4  Day 1 of @DataFestAfrica , I won a 4G Mifi and...  Ile Ife, Nigeria   \n",
              "\n",
              "   retweets  favorites                  Hashtags  \n",
              "0         0          0         #datafestafrica22  \n",
              "1         1          9                    #dfa22  \n",
              "2         0          1  #datafestafrica22 #dfc22  \n",
              "3         1          8                            \n",
              "4         0          1       #datafestafrica2022  "
            ],
            "text/html": [
              "\n",
              "  <div id=\"df-28c9c318-8477-4ade-bf62-f549caee59cb\">\n",
              "    <div class=\"colab-df-container\">\n",
              "      <div>\n",
              "<style scoped>\n",
              "    .dataframe tbody tr th:only-of-type {\n",
              "        vertical-align: middle;\n",
              "    }\n",
              "\n",
              "    .dataframe tbody tr th {\n",
              "        vertical-align: top;\n",
              "    }\n",
              "\n",
              "    .dataframe thead th {\n",
              "        text-align: right;\n",
              "    }\n",
              "</style>\n",
              "<table border=\"1\" class=\"dataframe\">\n",
              "  <thead>\n",
              "    <tr style=\"text-align: right;\">\n",
              "      <th></th>\n",
              "      <th>tweet_id</th>\n",
              "      <th>created_at</th>\n",
              "      <th>tweets</th>\n",
              "      <th>location</th>\n",
              "      <th>retweets</th>\n",
              "      <th>favorites</th>\n",
              "      <th>Hashtags</th>\n",
              "    </tr>\n",
              "  </thead>\n",
              "  <tbody>\n",
              "    <tr>\n",
              "      <th>0</th>\n",
              "      <td>1581028831208493056</td>\n",
              "      <td>2022-10-14 21:07:02</td>\n",
              "      <td>Day 01/ 2 of #DataFestAfrica22.\\n\\nDespite spe...</td>\n",
              "      <td>Nigeria</td>\n",
              "      <td>0</td>\n",
              "      <td>0</td>\n",
              "      <td>#datafestafrica22</td>\n",
              "    </tr>\n",
              "    <tr>\n",
              "      <th>1</th>\n",
              "      <td>1581027112613396480</td>\n",
              "      <td>2022-10-14 21:00:12</td>\n",
              "      <td>Day 1 ☑️\\nSome key points I took down yea🤗\\n📍Y...</td>\n",
              "      <td>Lagos, Nigeria</td>\n",
              "      <td>1</td>\n",
              "      <td>9</td>\n",
              "      <td>#dfa22</td>\n",
              "    </tr>\n",
              "    <tr>\n",
              "      <th>2</th>\n",
              "      <td>1581027078182273024</td>\n",
              "      <td>2022-10-14 21:00:04</td>\n",
              "      <td>It's on Sunday I'll tweet my full experience a...</td>\n",
              "      <td>Canigerda</td>\n",
              "      <td>0</td>\n",
              "      <td>1</td>\n",
              "      <td>#datafestafrica22 #dfc22</td>\n",
              "    </tr>\n",
              "    <tr>\n",
              "      <th>3</th>\n",
              "      <td>1581025104037052416</td>\n",
              "      <td>2022-10-14 20:52:13</td>\n",
              "      <td>Hosting the maiden edition of @DataFestAfrica ...</td>\n",
              "      <td>Tired</td>\n",
              "      <td>1</td>\n",
              "      <td>8</td>\n",
              "      <td></td>\n",
              "    </tr>\n",
              "    <tr>\n",
              "      <th>4</th>\n",
              "      <td>1581025082692227072</td>\n",
              "      <td>2022-10-14 20:52:08</td>\n",
              "      <td>Day 1 of @DataFestAfrica , I won a 4G Mifi and...</td>\n",
              "      <td>Ile Ife, Nigeria</td>\n",
              "      <td>0</td>\n",
              "      <td>1</td>\n",
              "      <td>#datafestafrica2022</td>\n",
              "    </tr>\n",
              "  </tbody>\n",
              "</table>\n",
              "</div>\n",
              "      <button class=\"colab-df-convert\" onclick=\"convertToInteractive('df-28c9c318-8477-4ade-bf62-f549caee59cb')\"\n",
              "              title=\"Convert this dataframe to an interactive table.\"\n",
              "              style=\"display:none;\">\n",
              "        \n",
              "  <svg xmlns=\"http://www.w3.org/2000/svg\" height=\"24px\"viewBox=\"0 0 24 24\"\n",
              "       width=\"24px\">\n",
              "    <path d=\"M0 0h24v24H0V0z\" fill=\"none\"/>\n",
              "    <path d=\"M18.56 5.44l.94 2.06.94-2.06 2.06-.94-2.06-.94-.94-2.06-.94 2.06-2.06.94zm-11 1L8.5 8.5l.94-2.06 2.06-.94-2.06-.94L8.5 2.5l-.94 2.06-2.06.94zm10 10l.94 2.06.94-2.06 2.06-.94-2.06-.94-.94-2.06-.94 2.06-2.06.94z\"/><path d=\"M17.41 7.96l-1.37-1.37c-.4-.4-.92-.59-1.43-.59-.52 0-1.04.2-1.43.59L10.3 9.45l-7.72 7.72c-.78.78-.78 2.05 0 2.83L4 21.41c.39.39.9.59 1.41.59.51 0 1.02-.2 1.41-.59l7.78-7.78 2.81-2.81c.8-.78.8-2.07 0-2.86zM5.41 20L4 18.59l7.72-7.72 1.47 1.35L5.41 20z\"/>\n",
              "  </svg>\n",
              "      </button>\n",
              "      \n",
              "  <style>\n",
              "    .colab-df-container {\n",
              "      display:flex;\n",
              "      flex-wrap:wrap;\n",
              "      gap: 12px;\n",
              "    }\n",
              "\n",
              "    .colab-df-convert {\n",
              "      background-color: #E8F0FE;\n",
              "      border: none;\n",
              "      border-radius: 50%;\n",
              "      cursor: pointer;\n",
              "      display: none;\n",
              "      fill: #1967D2;\n",
              "      height: 32px;\n",
              "      padding: 0 0 0 0;\n",
              "      width: 32px;\n",
              "    }\n",
              "\n",
              "    .colab-df-convert:hover {\n",
              "      background-color: #E2EBFA;\n",
              "      box-shadow: 0px 1px 2px rgba(60, 64, 67, 0.3), 0px 1px 3px 1px rgba(60, 64, 67, 0.15);\n",
              "      fill: #174EA6;\n",
              "    }\n",
              "\n",
              "    [theme=dark] .colab-df-convert {\n",
              "      background-color: #3B4455;\n",
              "      fill: #D2E3FC;\n",
              "    }\n",
              "\n",
              "    [theme=dark] .colab-df-convert:hover {\n",
              "      background-color: #434B5C;\n",
              "      box-shadow: 0px 1px 3px 1px rgba(0, 0, 0, 0.15);\n",
              "      filter: drop-shadow(0px 1px 2px rgba(0, 0, 0, 0.3));\n",
              "      fill: #FFFFFF;\n",
              "    }\n",
              "  </style>\n",
              "\n",
              "      <script>\n",
              "        const buttonEl =\n",
              "          document.querySelector('#df-28c9c318-8477-4ade-bf62-f549caee59cb button.colab-df-convert');\n",
              "        buttonEl.style.display =\n",
              "          google.colab.kernel.accessAllowed ? 'block' : 'none';\n",
              "\n",
              "        async function convertToInteractive(key) {\n",
              "          const element = document.querySelector('#df-28c9c318-8477-4ade-bf62-f549caee59cb');\n",
              "          const dataTable =\n",
              "            await google.colab.kernel.invokeFunction('convertToInteractive',\n",
              "                                                     [key], {});\n",
              "          if (!dataTable) return;\n",
              "\n",
              "          const docLinkHtml = 'Like what you see? Visit the ' +\n",
              "            '<a target=\"_blank\" href=https://colab.research.google.com/notebooks/data_table.ipynb>data table notebook</a>'\n",
              "            + ' to learn more about interactive tables.';\n",
              "          element.innerHTML = '';\n",
              "          dataTable['output_type'] = 'display_data';\n",
              "          await google.colab.output.renderOutput(dataTable, element);\n",
              "          const docLink = document.createElement('div');\n",
              "          docLink.innerHTML = docLinkHtml;\n",
              "          element.appendChild(docLink);\n",
              "        }\n",
              "      </script>\n",
              "    </div>\n",
              "  </div>\n",
              "  "
            ]
          },
          "metadata": {},
          "execution_count": 36
        }
      ]
    },
    {
      "cell_type": "code",
      "execution_count": null,
      "id": "de503f81",
      "metadata": {
        "id": "de503f81"
      },
      "outputs": [],
      "source": [
        "#function to remove hash tags, punctuations and links\n",
        "\n",
        "def cleantxt(text):\n",
        "    text = re.sub(r'@[A-Za-z0-9]+', '', text, re.MULTILINE) #remove @mentions\n",
        "    text = re.sub(r'[#,_,&,$,*]', '', text, re.MULTILINE) #remove special characters\n",
        "    text = re.sub(r'[0-9]', '', text, re.MULTILINE) #remove numbers\n",
        "    text = re.sub(r'http\\S+|http\\S+|www\\S+', '', text, re.MULTILINE) #remove hyperlinks, urls.\n",
        "    text = re.sub(r'\\n', ' ', text, re.MULTILINE)\n",
        "    text = re.sub(r'[^\\w\\s]', '', text, re.MULTILINE) #remove string\n",
        "    return text"
      ]
    },
    {
      "cell_type": "code",
      "source": [
        "#function to remove emojis\n",
        "def remove_emojis(data):\n",
        "    emoj = re.compile(\"[\"\n",
        "        u\"\\U0001F600-\\U0001F64F\"  # emoticons\n",
        "        u\"\\U0001F300-\\U0001F5FF\"  # symbols & pictographs\n",
        "        u\"\\U0001F680-\\U0001F6FF\"  # transport & map symbols\n",
        "        u\"\\U0001F1E0-\\U0001F1FF\"  # flags (iOS)\n",
        "        u\"\\U00002500-\\U00002BEF\"  # chinese char\n",
        "        u\"\\U00002702-\\U000027B0\"\n",
        "        u\"\\U00002702-\\U000027B0\"\n",
        "        u\"\\U000024C2-\\U0001F251\"\n",
        "        u\"\\U0001f926-\\U0001f937\"\n",
        "        u\"\\U00010000-\\U0010ffff\"\n",
        "        u\"\\u2640-\\u2642\" \n",
        "        u\"\\u2600-\\u2B55\"\n",
        "        u\"\\u200d\"\n",
        "        u\"\\u23cf\"\n",
        "        u\"\\u23e9\"\n",
        "        u\"\\u231a\"\n",
        "        u\"\\ufe0f\"  # dingbats\n",
        "        u\"\\u3030\"\n",
        "                      \"]+\", re.UNICODE)\n",
        "    return re.sub(emoj, '', data)"
      ],
      "metadata": {
        "id": "EA6hmZ9f6RXY"
      },
      "id": "EA6hmZ9f6RXY",
      "execution_count": null,
      "outputs": []
    },
    {
      "cell_type": "code",
      "execution_count": null,
      "id": "8a962e97",
      "metadata": {
        "id": "8a962e97"
      },
      "outputs": [],
      "source": [
        "#remove hash tags, punctuations, emojis and links from the tweet and location columns\n",
        "\n",
        "datafest_data['processed_tweet'] = datafest_data['tweets'].apply(cleantxt).apply(remove_emojis)\n",
        "datafest_data['location'] = datafest_data['location'].apply(cleantxt).apply(remove_emojis)"
      ]
    },
    {
      "cell_type": "code",
      "source": [
        "datafest_data.head()"
      ],
      "metadata": {
        "colab": {
          "base_uri": "https://localhost:8080/",
          "height": 354
        },
        "id": "1pwN8SbZZ0zY",
        "outputId": "c64c292c-4a76-4eed-c4ff-047496b02413"
      },
      "id": "1pwN8SbZZ0zY",
      "execution_count": null,
      "outputs": [
        {
          "output_type": "execute_result",
          "data": {
            "text/plain": [
              "              tweet_id           created_at  \\\n",
              "0  1581028831208493056  2022-10-14 21:07:02   \n",
              "1  1581027112613396480  2022-10-14 21:00:12   \n",
              "2  1581027078182273024  2022-10-14 21:00:04   \n",
              "3  1581025104037052416  2022-10-14 20:52:13   \n",
              "4  1581025082692227072  2022-10-14 20:52:08   \n",
              "\n",
              "                                              tweets         location  \\\n",
              "0  Day 01/ 2 of #DataFestAfrica22.\\n\\nDespite spe...          Nigeria   \n",
              "1  Day 1 ☑️\\nSome key points I took down yea🤗\\n📍Y...    Lagos Nigeria   \n",
              "2  It's on Sunday I'll tweet my full experience a...        Canigerda   \n",
              "3  Hosting the maiden edition of @DataFestAfrica ...            Tired   \n",
              "4  Day 1 of @DataFestAfrica , I won a 4G Mifi and...  Ile Ife Nigeria   \n",
              "\n",
              "   retweets  favorites                  Hashtags  \\\n",
              "0         0          0         #datafestafrica22   \n",
              "1         1          9                    #dfa22   \n",
              "2         0          1  #datafestafrica22 #dfc22   \n",
              "3         1          8                             \n",
              "4         0          1       #datafestafrica2022   \n",
              "\n",
              "                                     processed_tweet  \n",
              "0  Day   of DataFestAfrica  Despite spending  hou...  \n",
              "1  Day   Some key points I took down yea You need...  \n",
              "2  Its on Sunday Ill tweet my full experience at ...  \n",
              "3  Hosting the maiden edition of  today with  was...  \n",
              "4  Day  of   I won a G Mifi and guess what you ca...  "
            ],
            "text/html": [
              "\n",
              "  <div id=\"df-f2d05f71-24d5-4f1b-b344-2cebecba78a4\">\n",
              "    <div class=\"colab-df-container\">\n",
              "      <div>\n",
              "<style scoped>\n",
              "    .dataframe tbody tr th:only-of-type {\n",
              "        vertical-align: middle;\n",
              "    }\n",
              "\n",
              "    .dataframe tbody tr th {\n",
              "        vertical-align: top;\n",
              "    }\n",
              "\n",
              "    .dataframe thead th {\n",
              "        text-align: right;\n",
              "    }\n",
              "</style>\n",
              "<table border=\"1\" class=\"dataframe\">\n",
              "  <thead>\n",
              "    <tr style=\"text-align: right;\">\n",
              "      <th></th>\n",
              "      <th>tweet_id</th>\n",
              "      <th>created_at</th>\n",
              "      <th>tweets</th>\n",
              "      <th>location</th>\n",
              "      <th>retweets</th>\n",
              "      <th>favorites</th>\n",
              "      <th>Hashtags</th>\n",
              "      <th>processed_tweet</th>\n",
              "    </tr>\n",
              "  </thead>\n",
              "  <tbody>\n",
              "    <tr>\n",
              "      <th>0</th>\n",
              "      <td>1581028831208493056</td>\n",
              "      <td>2022-10-14 21:07:02</td>\n",
              "      <td>Day 01/ 2 of #DataFestAfrica22.\\n\\nDespite spe...</td>\n",
              "      <td>Nigeria</td>\n",
              "      <td>0</td>\n",
              "      <td>0</td>\n",
              "      <td>#datafestafrica22</td>\n",
              "      <td>Day   of DataFestAfrica  Despite spending  hou...</td>\n",
              "    </tr>\n",
              "    <tr>\n",
              "      <th>1</th>\n",
              "      <td>1581027112613396480</td>\n",
              "      <td>2022-10-14 21:00:12</td>\n",
              "      <td>Day 1 ☑️\\nSome key points I took down yea🤗\\n📍Y...</td>\n",
              "      <td>Lagos Nigeria</td>\n",
              "      <td>1</td>\n",
              "      <td>9</td>\n",
              "      <td>#dfa22</td>\n",
              "      <td>Day   Some key points I took down yea You need...</td>\n",
              "    </tr>\n",
              "    <tr>\n",
              "      <th>2</th>\n",
              "      <td>1581027078182273024</td>\n",
              "      <td>2022-10-14 21:00:04</td>\n",
              "      <td>It's on Sunday I'll tweet my full experience a...</td>\n",
              "      <td>Canigerda</td>\n",
              "      <td>0</td>\n",
              "      <td>1</td>\n",
              "      <td>#datafestafrica22 #dfc22</td>\n",
              "      <td>Its on Sunday Ill tweet my full experience at ...</td>\n",
              "    </tr>\n",
              "    <tr>\n",
              "      <th>3</th>\n",
              "      <td>1581025104037052416</td>\n",
              "      <td>2022-10-14 20:52:13</td>\n",
              "      <td>Hosting the maiden edition of @DataFestAfrica ...</td>\n",
              "      <td>Tired</td>\n",
              "      <td>1</td>\n",
              "      <td>8</td>\n",
              "      <td></td>\n",
              "      <td>Hosting the maiden edition of  today with  was...</td>\n",
              "    </tr>\n",
              "    <tr>\n",
              "      <th>4</th>\n",
              "      <td>1581025082692227072</td>\n",
              "      <td>2022-10-14 20:52:08</td>\n",
              "      <td>Day 1 of @DataFestAfrica , I won a 4G Mifi and...</td>\n",
              "      <td>Ile Ife Nigeria</td>\n",
              "      <td>0</td>\n",
              "      <td>1</td>\n",
              "      <td>#datafestafrica2022</td>\n",
              "      <td>Day  of   I won a G Mifi and guess what you ca...</td>\n",
              "    </tr>\n",
              "  </tbody>\n",
              "</table>\n",
              "</div>\n",
              "      <button class=\"colab-df-convert\" onclick=\"convertToInteractive('df-f2d05f71-24d5-4f1b-b344-2cebecba78a4')\"\n",
              "              title=\"Convert this dataframe to an interactive table.\"\n",
              "              style=\"display:none;\">\n",
              "        \n",
              "  <svg xmlns=\"http://www.w3.org/2000/svg\" height=\"24px\"viewBox=\"0 0 24 24\"\n",
              "       width=\"24px\">\n",
              "    <path d=\"M0 0h24v24H0V0z\" fill=\"none\"/>\n",
              "    <path d=\"M18.56 5.44l.94 2.06.94-2.06 2.06-.94-2.06-.94-.94-2.06-.94 2.06-2.06.94zm-11 1L8.5 8.5l.94-2.06 2.06-.94-2.06-.94L8.5 2.5l-.94 2.06-2.06.94zm10 10l.94 2.06.94-2.06 2.06-.94-2.06-.94-.94-2.06-.94 2.06-2.06.94z\"/><path d=\"M17.41 7.96l-1.37-1.37c-.4-.4-.92-.59-1.43-.59-.52 0-1.04.2-1.43.59L10.3 9.45l-7.72 7.72c-.78.78-.78 2.05 0 2.83L4 21.41c.39.39.9.59 1.41.59.51 0 1.02-.2 1.41-.59l7.78-7.78 2.81-2.81c.8-.78.8-2.07 0-2.86zM5.41 20L4 18.59l7.72-7.72 1.47 1.35L5.41 20z\"/>\n",
              "  </svg>\n",
              "      </button>\n",
              "      \n",
              "  <style>\n",
              "    .colab-df-container {\n",
              "      display:flex;\n",
              "      flex-wrap:wrap;\n",
              "      gap: 12px;\n",
              "    }\n",
              "\n",
              "    .colab-df-convert {\n",
              "      background-color: #E8F0FE;\n",
              "      border: none;\n",
              "      border-radius: 50%;\n",
              "      cursor: pointer;\n",
              "      display: none;\n",
              "      fill: #1967D2;\n",
              "      height: 32px;\n",
              "      padding: 0 0 0 0;\n",
              "      width: 32px;\n",
              "    }\n",
              "\n",
              "    .colab-df-convert:hover {\n",
              "      background-color: #E2EBFA;\n",
              "      box-shadow: 0px 1px 2px rgba(60, 64, 67, 0.3), 0px 1px 3px 1px rgba(60, 64, 67, 0.15);\n",
              "      fill: #174EA6;\n",
              "    }\n",
              "\n",
              "    [theme=dark] .colab-df-convert {\n",
              "      background-color: #3B4455;\n",
              "      fill: #D2E3FC;\n",
              "    }\n",
              "\n",
              "    [theme=dark] .colab-df-convert:hover {\n",
              "      background-color: #434B5C;\n",
              "      box-shadow: 0px 1px 3px 1px rgba(0, 0, 0, 0.15);\n",
              "      filter: drop-shadow(0px 1px 2px rgba(0, 0, 0, 0.3));\n",
              "      fill: #FFFFFF;\n",
              "    }\n",
              "  </style>\n",
              "\n",
              "      <script>\n",
              "        const buttonEl =\n",
              "          document.querySelector('#df-f2d05f71-24d5-4f1b-b344-2cebecba78a4 button.colab-df-convert');\n",
              "        buttonEl.style.display =\n",
              "          google.colab.kernel.accessAllowed ? 'block' : 'none';\n",
              "\n",
              "        async function convertToInteractive(key) {\n",
              "          const element = document.querySelector('#df-f2d05f71-24d5-4f1b-b344-2cebecba78a4');\n",
              "          const dataTable =\n",
              "            await google.colab.kernel.invokeFunction('convertToInteractive',\n",
              "                                                     [key], {});\n",
              "          if (!dataTable) return;\n",
              "\n",
              "          const docLinkHtml = 'Like what you see? Visit the ' +\n",
              "            '<a target=\"_blank\" href=https://colab.research.google.com/notebooks/data_table.ipynb>data table notebook</a>'\n",
              "            + ' to learn more about interactive tables.';\n",
              "          element.innerHTML = '';\n",
              "          dataTable['output_type'] = 'display_data';\n",
              "          await google.colab.output.renderOutput(dataTable, element);\n",
              "          const docLink = document.createElement('div');\n",
              "          docLink.innerHTML = docLinkHtml;\n",
              "          element.appendChild(docLink);\n",
              "        }\n",
              "      </script>\n",
              "    </div>\n",
              "  </div>\n",
              "  "
            ]
          },
          "metadata": {},
          "execution_count": 41
        }
      ]
    },
    {
      "cell_type": "code",
      "execution_count": null,
      "id": "c73808d4",
      "metadata": {
        "id": "c73808d4"
      },
      "outputs": [],
      "source": [
        "stopWords = set(stopwords.words('english')) #pass the list of default stop words into a variable\n",
        "user_stopwords = ['datafest', 'datafestafrica', 'data', 'dfa', 'day', 'today', 'i', 'him', 'her', 'analyst', \n",
        "                  'scientist', 'engineer', 'machine', 'learning', 'ml', 'analysts', 'scientists', 'software'\n",
        "                  'engineers', 'developer', 'developers', 'tableau', 'cloud', 'power', 'bi', 'dbt', 'ssis', 'sql', \n",
        "                  'python', 'we', 'us', 'monday', 'tuesday', 'wednesday', 'thursday', 'friday', 'saturday', 'sunday',\n",
        "                  'yes', 'yea', 'ive', 'im', 'ivent','wasnt', 'werent', 'mustnt', 'been', 'one', 'two', 'three', 'is',\n",
        "                  'four', 'five', 'six', 'seven', 'eight', 'nine', 'ten', 'aht','ve', 'next', 'to', 'from', 'why', 'was',\n",
        "                  'up', 'down', 'nor', 'and', 'before', 'after', 'wouldnt', 'shouldnt', 'unilag', 'lagos', 'campus',\n",
        "                  'hall', 'university', 'of', 'akoka', 'students', 'tutor', 'lecturer', 'mr', 'miss', 'sister', 'brother'\n",
        "                  ]  #create a list of my own stopwords\n",
        "alphabet = list(string.ascii_lowercase) #create a list of all alphabets in lowercase\n",
        "\n",
        "\n",
        "stopWords = list(stopWords) + user_stopwords + alphabet #combine the three variables\n",
        "\n",
        "#create a function to remove stopwords and single alphabets\n",
        "def process(tweet):\n",
        "    tweet = tweet.lower() #convert tweet text to lowercase\n",
        "    wordsfiltered = []\n",
        "    tweet = word_tokenize(tweet)\n",
        "    \n",
        "    for word in tweet:\n",
        "        if word not in stopWords: #remove stopwords and single alphabets\n",
        "            if word not in string.punctuation: #remove punctuations\n",
        "                  wordsfiltered.append(word)\n",
        "    return \" \".join(wordsfiltered)"
      ]
    },
    {
      "cell_type": "code",
      "execution_count": null,
      "id": "c2cc3628",
      "metadata": {
        "id": "c2cc3628"
      },
      "outputs": [],
      "source": [
        "#apply the 'process' function to the tweet column\n",
        "datafest_data['processed_tweet'] = datafest_data['processed_tweet'].apply(process) "
      ]
    },
    {
      "cell_type": "code",
      "execution_count": null,
      "id": "7b5f34a2",
      "metadata": {
        "colab": {
          "base_uri": "https://localhost:8080/",
          "height": 372
        },
        "id": "7b5f34a2",
        "outputId": "90a4cab9-7caa-46eb-9a9d-efe61a6ebc8a"
      },
      "outputs": [
        {
          "output_type": "execute_result",
          "data": {
            "text/plain": [
              "                tweet_id           created_at  \\\n",
              "239  1581200027774767105  2022-10-15 08:27:18   \n",
              "241  1581199478098661376  2022-10-15 08:25:07   \n",
              "245  1581198101011759106  2022-10-15 08:19:39   \n",
              "249  1581197212897316864  2022-10-15 08:16:07   \n",
              "282  1581134349725933568  2022-10-15 04:06:19   \n",
              "\n",
              "                                                tweets       location  \\\n",
              "239  Live at Day 2 of DataFest Africa, with  @DataS...  Lagos Nigeria   \n",
              "241  Live at Day 2 of DataFest Africa, with new fri...  Lagos Nigeria   \n",
              "245  We go again...Day 2💥🔥🔥\\n\\n#DATAFEST2022 #DFA22...        Nigeria   \n",
              "249  With @CourseHerd at Datafest22 day 2.\\n#DataFe...  Lagos Nigeria   \n",
              "282  - Be purple \\n- Domain knowledge is important ...        Nigeria   \n",
              "\n",
              "     retweets  favorites                          Hashtags  \\\n",
              "239         0          1  #dfa22 #datafest2022 #datafest22   \n",
              "241         0          2  #dfa22 #datafest2022 #datafest22   \n",
              "245         0          1  #datafest2022 #dfa22 #datafest22   \n",
              "249         0          0           #datafest22 #dfa22 #dfa   \n",
              "282         0          1                            #dfa22   \n",
              "\n",
              "                                       processed_tweet  \n",
              "239     live africa new inspiration new fire datafest2  \n",
              "241  live africa new friends new inspiration new fi...  \n",
              "245                              go againday datafest2  \n",
              "249                                                     \n",
              "282  purple domain knowledge important consistencyy...  "
            ],
            "text/html": [
              "\n",
              "  <div id=\"df-5995ec08-4cf6-484e-8456-99af75201bf2\">\n",
              "    <div class=\"colab-df-container\">\n",
              "      <div>\n",
              "<style scoped>\n",
              "    .dataframe tbody tr th:only-of-type {\n",
              "        vertical-align: middle;\n",
              "    }\n",
              "\n",
              "    .dataframe tbody tr th {\n",
              "        vertical-align: top;\n",
              "    }\n",
              "\n",
              "    .dataframe thead th {\n",
              "        text-align: right;\n",
              "    }\n",
              "</style>\n",
              "<table border=\"1\" class=\"dataframe\">\n",
              "  <thead>\n",
              "    <tr style=\"text-align: right;\">\n",
              "      <th></th>\n",
              "      <th>tweet_id</th>\n",
              "      <th>created_at</th>\n",
              "      <th>tweets</th>\n",
              "      <th>location</th>\n",
              "      <th>retweets</th>\n",
              "      <th>favorites</th>\n",
              "      <th>Hashtags</th>\n",
              "      <th>processed_tweet</th>\n",
              "    </tr>\n",
              "  </thead>\n",
              "  <tbody>\n",
              "    <tr>\n",
              "      <th>239</th>\n",
              "      <td>1581200027774767105</td>\n",
              "      <td>2022-10-15 08:27:18</td>\n",
              "      <td>Live at Day 2 of DataFest Africa, with  @DataS...</td>\n",
              "      <td>Lagos Nigeria</td>\n",
              "      <td>0</td>\n",
              "      <td>1</td>\n",
              "      <td>#dfa22 #datafest2022 #datafest22</td>\n",
              "      <td>live africa new inspiration new fire datafest2</td>\n",
              "    </tr>\n",
              "    <tr>\n",
              "      <th>241</th>\n",
              "      <td>1581199478098661376</td>\n",
              "      <td>2022-10-15 08:25:07</td>\n",
              "      <td>Live at Day 2 of DataFest Africa, with new fri...</td>\n",
              "      <td>Lagos Nigeria</td>\n",
              "      <td>0</td>\n",
              "      <td>2</td>\n",
              "      <td>#dfa22 #datafest2022 #datafest22</td>\n",
              "      <td>live africa new friends new inspiration new fi...</td>\n",
              "    </tr>\n",
              "    <tr>\n",
              "      <th>245</th>\n",
              "      <td>1581198101011759106</td>\n",
              "      <td>2022-10-15 08:19:39</td>\n",
              "      <td>We go again...Day 2💥🔥🔥\\n\\n#DATAFEST2022 #DFA22...</td>\n",
              "      <td>Nigeria</td>\n",
              "      <td>0</td>\n",
              "      <td>1</td>\n",
              "      <td>#datafest2022 #dfa22 #datafest22</td>\n",
              "      <td>go againday datafest2</td>\n",
              "    </tr>\n",
              "    <tr>\n",
              "      <th>249</th>\n",
              "      <td>1581197212897316864</td>\n",
              "      <td>2022-10-15 08:16:07</td>\n",
              "      <td>With @CourseHerd at Datafest22 day 2.\\n#DataFe...</td>\n",
              "      <td>Lagos Nigeria</td>\n",
              "      <td>0</td>\n",
              "      <td>0</td>\n",
              "      <td>#datafest22 #dfa22 #dfa</td>\n",
              "      <td></td>\n",
              "    </tr>\n",
              "    <tr>\n",
              "      <th>282</th>\n",
              "      <td>1581134349725933568</td>\n",
              "      <td>2022-10-15 04:06:19</td>\n",
              "      <td>- Be purple \\n- Domain knowledge is important ...</td>\n",
              "      <td>Nigeria</td>\n",
              "      <td>0</td>\n",
              "      <td>1</td>\n",
              "      <td>#dfa22</td>\n",
              "      <td>purple domain knowledge important consistencyy...</td>\n",
              "    </tr>\n",
              "  </tbody>\n",
              "</table>\n",
              "</div>\n",
              "      <button class=\"colab-df-convert\" onclick=\"convertToInteractive('df-5995ec08-4cf6-484e-8456-99af75201bf2')\"\n",
              "              title=\"Convert this dataframe to an interactive table.\"\n",
              "              style=\"display:none;\">\n",
              "        \n",
              "  <svg xmlns=\"http://www.w3.org/2000/svg\" height=\"24px\"viewBox=\"0 0 24 24\"\n",
              "       width=\"24px\">\n",
              "    <path d=\"M0 0h24v24H0V0z\" fill=\"none\"/>\n",
              "    <path d=\"M18.56 5.44l.94 2.06.94-2.06 2.06-.94-2.06-.94-.94-2.06-.94 2.06-2.06.94zm-11 1L8.5 8.5l.94-2.06 2.06-.94-2.06-.94L8.5 2.5l-.94 2.06-2.06.94zm10 10l.94 2.06.94-2.06 2.06-.94-2.06-.94-.94-2.06-.94 2.06-2.06.94z\"/><path d=\"M17.41 7.96l-1.37-1.37c-.4-.4-.92-.59-1.43-.59-.52 0-1.04.2-1.43.59L10.3 9.45l-7.72 7.72c-.78.78-.78 2.05 0 2.83L4 21.41c.39.39.9.59 1.41.59.51 0 1.02-.2 1.41-.59l7.78-7.78 2.81-2.81c.8-.78.8-2.07 0-2.86zM5.41 20L4 18.59l7.72-7.72 1.47 1.35L5.41 20z\"/>\n",
              "  </svg>\n",
              "      </button>\n",
              "      \n",
              "  <style>\n",
              "    .colab-df-container {\n",
              "      display:flex;\n",
              "      flex-wrap:wrap;\n",
              "      gap: 12px;\n",
              "    }\n",
              "\n",
              "    .colab-df-convert {\n",
              "      background-color: #E8F0FE;\n",
              "      border: none;\n",
              "      border-radius: 50%;\n",
              "      cursor: pointer;\n",
              "      display: none;\n",
              "      fill: #1967D2;\n",
              "      height: 32px;\n",
              "      padding: 0 0 0 0;\n",
              "      width: 32px;\n",
              "    }\n",
              "\n",
              "    .colab-df-convert:hover {\n",
              "      background-color: #E2EBFA;\n",
              "      box-shadow: 0px 1px 2px rgba(60, 64, 67, 0.3), 0px 1px 3px 1px rgba(60, 64, 67, 0.15);\n",
              "      fill: #174EA6;\n",
              "    }\n",
              "\n",
              "    [theme=dark] .colab-df-convert {\n",
              "      background-color: #3B4455;\n",
              "      fill: #D2E3FC;\n",
              "    }\n",
              "\n",
              "    [theme=dark] .colab-df-convert:hover {\n",
              "      background-color: #434B5C;\n",
              "      box-shadow: 0px 1px 3px 1px rgba(0, 0, 0, 0.15);\n",
              "      filter: drop-shadow(0px 1px 2px rgba(0, 0, 0, 0.3));\n",
              "      fill: #FFFFFF;\n",
              "    }\n",
              "  </style>\n",
              "\n",
              "      <script>\n",
              "        const buttonEl =\n",
              "          document.querySelector('#df-5995ec08-4cf6-484e-8456-99af75201bf2 button.colab-df-convert');\n",
              "        buttonEl.style.display =\n",
              "          google.colab.kernel.accessAllowed ? 'block' : 'none';\n",
              "\n",
              "        async function convertToInteractive(key) {\n",
              "          const element = document.querySelector('#df-5995ec08-4cf6-484e-8456-99af75201bf2');\n",
              "          const dataTable =\n",
              "            await google.colab.kernel.invokeFunction('convertToInteractive',\n",
              "                                                     [key], {});\n",
              "          if (!dataTable) return;\n",
              "\n",
              "          const docLinkHtml = 'Like what you see? Visit the ' +\n",
              "            '<a target=\"_blank\" href=https://colab.research.google.com/notebooks/data_table.ipynb>data table notebook</a>'\n",
              "            + ' to learn more about interactive tables.';\n",
              "          element.innerHTML = '';\n",
              "          dataTable['output_type'] = 'display_data';\n",
              "          await google.colab.output.renderOutput(dataTable, element);\n",
              "          const docLink = document.createElement('div');\n",
              "          docLink.innerHTML = docLinkHtml;\n",
              "          element.appendChild(docLink);\n",
              "        }\n",
              "      </script>\n",
              "    </div>\n",
              "  </div>\n",
              "  "
            ]
          },
          "metadata": {},
          "execution_count": 48
        }
      ],
      "source": [
        "datafest_data.tail()"
      ]
    },
    {
      "cell_type": "markdown",
      "id": "66d3cb52",
      "metadata": {
        "id": "66d3cb52"
      },
      "source": [
        "### Exploratory Analysis"
      ]
    },
    {
      "cell_type": "markdown",
      "source": [],
      "metadata": {
        "id": "gXuymWcx63dh"
      },
      "id": "gXuymWcx63dh"
    },
    {
      "cell_type": "code",
      "source": [
        "from google.colab import files\n",
        "uploaded = files.upload()"
      ],
      "metadata": {
        "id": "z0_vH_uSArNi",
        "colab": {
          "base_uri": "https://localhost:8080/",
          "height": 74
        },
        "outputId": "f51ce3d4-33e0-4b83-8d82-3d7a979f63a1"
      },
      "id": "z0_vH_uSArNi",
      "execution_count": 3,
      "outputs": [
        {
          "output_type": "display_data",
          "data": {
            "text/plain": [
              "<IPython.core.display.HTML object>"
            ],
            "text/html": [
              "\n",
              "     <input type=\"file\" id=\"files-8dc81f64-8505-4904-b9db-3c338baddcd4\" name=\"files[]\" multiple disabled\n",
              "        style=\"border:none\" />\n",
              "     <output id=\"result-8dc81f64-8505-4904-b9db-3c338baddcd4\">\n",
              "      Upload widget is only available when the cell has been executed in the\n",
              "      current browser session. Please rerun this cell to enable.\n",
              "      </output>\n",
              "      <script>// Copyright 2017 Google LLC\n",
              "//\n",
              "// Licensed under the Apache License, Version 2.0 (the \"License\");\n",
              "// you may not use this file except in compliance with the License.\n",
              "// You may obtain a copy of the License at\n",
              "//\n",
              "//      http://www.apache.org/licenses/LICENSE-2.0\n",
              "//\n",
              "// Unless required by applicable law or agreed to in writing, software\n",
              "// distributed under the License is distributed on an \"AS IS\" BASIS,\n",
              "// WITHOUT WARRANTIES OR CONDITIONS OF ANY KIND, either express or implied.\n",
              "// See the License for the specific language governing permissions and\n",
              "// limitations under the License.\n",
              "\n",
              "/**\n",
              " * @fileoverview Helpers for google.colab Python module.\n",
              " */\n",
              "(function(scope) {\n",
              "function span(text, styleAttributes = {}) {\n",
              "  const element = document.createElement('span');\n",
              "  element.textContent = text;\n",
              "  for (const key of Object.keys(styleAttributes)) {\n",
              "    element.style[key] = styleAttributes[key];\n",
              "  }\n",
              "  return element;\n",
              "}\n",
              "\n",
              "// Max number of bytes which will be uploaded at a time.\n",
              "const MAX_PAYLOAD_SIZE = 100 * 1024;\n",
              "\n",
              "function _uploadFiles(inputId, outputId) {\n",
              "  const steps = uploadFilesStep(inputId, outputId);\n",
              "  const outputElement = document.getElementById(outputId);\n",
              "  // Cache steps on the outputElement to make it available for the next call\n",
              "  // to uploadFilesContinue from Python.\n",
              "  outputElement.steps = steps;\n",
              "\n",
              "  return _uploadFilesContinue(outputId);\n",
              "}\n",
              "\n",
              "// This is roughly an async generator (not supported in the browser yet),\n",
              "// where there are multiple asynchronous steps and the Python side is going\n",
              "// to poll for completion of each step.\n",
              "// This uses a Promise to block the python side on completion of each step,\n",
              "// then passes the result of the previous step as the input to the next step.\n",
              "function _uploadFilesContinue(outputId) {\n",
              "  const outputElement = document.getElementById(outputId);\n",
              "  const steps = outputElement.steps;\n",
              "\n",
              "  const next = steps.next(outputElement.lastPromiseValue);\n",
              "  return Promise.resolve(next.value.promise).then((value) => {\n",
              "    // Cache the last promise value to make it available to the next\n",
              "    // step of the generator.\n",
              "    outputElement.lastPromiseValue = value;\n",
              "    return next.value.response;\n",
              "  });\n",
              "}\n",
              "\n",
              "/**\n",
              " * Generator function which is called between each async step of the upload\n",
              " * process.\n",
              " * @param {string} inputId Element ID of the input file picker element.\n",
              " * @param {string} outputId Element ID of the output display.\n",
              " * @return {!Iterable<!Object>} Iterable of next steps.\n",
              " */\n",
              "function* uploadFilesStep(inputId, outputId) {\n",
              "  const inputElement = document.getElementById(inputId);\n",
              "  inputElement.disabled = false;\n",
              "\n",
              "  const outputElement = document.getElementById(outputId);\n",
              "  outputElement.innerHTML = '';\n",
              "\n",
              "  const pickedPromise = new Promise((resolve) => {\n",
              "    inputElement.addEventListener('change', (e) => {\n",
              "      resolve(e.target.files);\n",
              "    });\n",
              "  });\n",
              "\n",
              "  const cancel = document.createElement('button');\n",
              "  inputElement.parentElement.appendChild(cancel);\n",
              "  cancel.textContent = 'Cancel upload';\n",
              "  const cancelPromise = new Promise((resolve) => {\n",
              "    cancel.onclick = () => {\n",
              "      resolve(null);\n",
              "    };\n",
              "  });\n",
              "\n",
              "  // Wait for the user to pick the files.\n",
              "  const files = yield {\n",
              "    promise: Promise.race([pickedPromise, cancelPromise]),\n",
              "    response: {\n",
              "      action: 'starting',\n",
              "    }\n",
              "  };\n",
              "\n",
              "  cancel.remove();\n",
              "\n",
              "  // Disable the input element since further picks are not allowed.\n",
              "  inputElement.disabled = true;\n",
              "\n",
              "  if (!files) {\n",
              "    return {\n",
              "      response: {\n",
              "        action: 'complete',\n",
              "      }\n",
              "    };\n",
              "  }\n",
              "\n",
              "  for (const file of files) {\n",
              "    const li = document.createElement('li');\n",
              "    li.append(span(file.name, {fontWeight: 'bold'}));\n",
              "    li.append(span(\n",
              "        `(${file.type || 'n/a'}) - ${file.size} bytes, ` +\n",
              "        `last modified: ${\n",
              "            file.lastModifiedDate ? file.lastModifiedDate.toLocaleDateString() :\n",
              "                                    'n/a'} - `));\n",
              "    const percent = span('0% done');\n",
              "    li.appendChild(percent);\n",
              "\n",
              "    outputElement.appendChild(li);\n",
              "\n",
              "    const fileDataPromise = new Promise((resolve) => {\n",
              "      const reader = new FileReader();\n",
              "      reader.onload = (e) => {\n",
              "        resolve(e.target.result);\n",
              "      };\n",
              "      reader.readAsArrayBuffer(file);\n",
              "    });\n",
              "    // Wait for the data to be ready.\n",
              "    let fileData = yield {\n",
              "      promise: fileDataPromise,\n",
              "      response: {\n",
              "        action: 'continue',\n",
              "      }\n",
              "    };\n",
              "\n",
              "    // Use a chunked sending to avoid message size limits. See b/62115660.\n",
              "    let position = 0;\n",
              "    do {\n",
              "      const length = Math.min(fileData.byteLength - position, MAX_PAYLOAD_SIZE);\n",
              "      const chunk = new Uint8Array(fileData, position, length);\n",
              "      position += length;\n",
              "\n",
              "      const base64 = btoa(String.fromCharCode.apply(null, chunk));\n",
              "      yield {\n",
              "        response: {\n",
              "          action: 'append',\n",
              "          file: file.name,\n",
              "          data: base64,\n",
              "        },\n",
              "      };\n",
              "\n",
              "      let percentDone = fileData.byteLength === 0 ?\n",
              "          100 :\n",
              "          Math.round((position / fileData.byteLength) * 100);\n",
              "      percent.textContent = `${percentDone}% done`;\n",
              "\n",
              "    } while (position < fileData.byteLength);\n",
              "  }\n",
              "\n",
              "  // All done.\n",
              "  yield {\n",
              "    response: {\n",
              "      action: 'complete',\n",
              "    }\n",
              "  };\n",
              "}\n",
              "\n",
              "scope.google = scope.google || {};\n",
              "scope.google.colab = scope.google.colab || {};\n",
              "scope.google.colab._files = {\n",
              "  _uploadFiles,\n",
              "  _uploadFilesContinue,\n",
              "};\n",
              "})(self);\n",
              "</script> "
            ]
          },
          "metadata": {}
        },
        {
          "output_type": "stream",
          "name": "stdout",
          "text": [
            "Saving processed_tweets.csv to processed_tweets.csv\n"
          ]
        }
      ]
    },
    {
      "cell_type": "code",
      "source": [
        "datafest_data = pd.read_csv('processed_tweets.csv')"
      ],
      "metadata": {
        "id": "q0V0JpEtJeJ-"
      },
      "id": "q0V0JpEtJeJ-",
      "execution_count": 4,
      "outputs": []
    },
    {
      "cell_type": "code",
      "source": [
        "datafest_data['created_at'] = pd.to_datetime(datafest_data['created_at']) #convert created_at column to datetime in order to extract the day"
      ],
      "metadata": {
        "id": "XaBh1S8WXvnP"
      },
      "id": "XaBh1S8WXvnP",
      "execution_count": null,
      "outputs": []
    },
    {
      "cell_type": "code",
      "source": [],
      "metadata": {
        "id": "hU48GuxJ7epK"
      },
      "id": "hU48GuxJ7epK",
      "execution_count": null,
      "outputs": []
    },
    {
      "cell_type": "markdown",
      "source": [
        "**Tweets by day**\n",
        "\n",
        "As expeceted, the most tweets were on the days of the conference."
      ],
      "metadata": {
        "id": "7Hn1WpXH7fS8"
      },
      "id": "7Hn1WpXH7fS8"
    },
    {
      "cell_type": "code",
      "execution_count": 11,
      "id": "fed31203",
      "metadata": {
        "id": "fed31203",
        "colab": {
          "base_uri": "https://localhost:8080/",
          "height": 476
        },
        "outputId": "b4be5427-6dd7-499f-f496-1d9def11ac6d"
      },
      "outputs": [
        {
          "output_type": "execute_result",
          "data": {
            "text/plain": [
              "<matplotlib.collections.PolyCollection at 0x7f74d0acc710>"
            ]
          },
          "metadata": {},
          "execution_count": 11
        },
        {
          "output_type": "display_data",
          "data": {
            "text/plain": [
              "<Figure size 1080x504 with 1 Axes>"
            ],
            "image/png": "[encoded data removed]"
          },
          "metadata": {
            "needs_background": "light"
          }
        }
      ],
      "source": [
        "tweet_time = datafest_data.groupby(datafest_data.created_at.dt.day).size().reset_index(name='no_of_tweets')\n",
        "\n",
        "plt.figure(figsize=(15,7)) #set figure size\n",
        "\n",
        "#set the data, color and marker to use\n",
        "plt.plot(tweet_time.created_at, tweet_time.no_of_tweets, color = 'skyblue') \n",
        "plt.title('Tweets by day') #set title\n",
        "plt.xlabel('day') #set the x axis title\n",
        "plt.ylabel('no of tweets') #set the y axis title\n",
        "plt.fill_between(tweet_time.created_at, tweet_time.no_of_tweets, color = 'skyblue')"
      ]
    },
    {
      "cell_type": "markdown",
      "id": "fa709480",
      "metadata": {
        "id": "fa709480"
      },
      "source": [
        "### Sentiment Analysis"
      ]
    },
    {
      "cell_type": "code",
      "execution_count": 6,
      "id": "d0ba2a40",
      "metadata": {
        "id": "d0ba2a40"
      },
      "outputs": [],
      "source": [
        "#function to get the polarity\n",
        "def getPolarity(text):\n",
        "    return TextBlob(text).sentiment.polarity\n",
        "\n",
        "#function to get the positive, neutral and negative sentiment\n",
        "def getSentiment(text):\n",
        "    if text < 0:\n",
        "        return 'negative'\n",
        "    elif text == 0:\n",
        "        return 'neutral'\n",
        "    else:\n",
        "        return 'positive'"
      ]
    },
    {
      "cell_type": "code",
      "execution_count": null,
      "id": "108d7546",
      "metadata": {
        "id": "108d7546"
      },
      "outputs": [],
      "source": [
        "#create a new column for sentiment\n",
        "datafest_data['tweet_sentiment'] = datafest_data['processed_tweet'].apply(getPolarity).apply(getSentiment)"
      ]
    },
    {
      "cell_type": "code",
      "execution_count": 8,
      "id": "61f677d1",
      "metadata": {
        "colab": {
          "base_uri": "https://localhost:8080/",
          "height": 580
        },
        "id": "61f677d1",
        "outputId": "9375f0a5-14a7-4ef9-e8d5-9e6893cccb92"
      },
      "outputs": [
        {
          "output_type": "execute_result",
          "data": {
            "text/plain": [
              "              tweet_id          created_at  \\\n",
              "0  1581028831208493056 2022-10-14 21:07:02   \n",
              "1  1581027112613396480 2022-10-14 21:00:12   \n",
              "2  1581027078182273024 2022-10-14 21:00:04   \n",
              "3  1581025104037052416 2022-10-14 20:52:13   \n",
              "4  1581025082692227072 2022-10-14 20:52:08   \n",
              "5  1581024723068391424 2022-10-14 20:50:42   \n",
              "6  1581024098146455553 2022-10-14 20:48:13   \n",
              "7  1581023590182318080 2022-10-14 20:46:12   \n",
              "8  1581021239984156672 2022-10-14 20:36:52   \n",
              "9  1581019725709987841 2022-10-14 20:30:51   \n",
              "\n",
              "                                              tweets         location  \\\n",
              "0  Day 01/ 2 of #DataFestAfrica22.\\n\\nDespite spe...          Nigeria   \n",
              "1  Day 1 ☑️\\nSome key points I took down yea🤗\\n📍Y...    Lagos Nigeria   \n",
              "2  It's on Sunday I'll tweet my full experience a...        Canigerda   \n",
              "3  Hosting the maiden edition of @DataFestAfrica ...            Tired   \n",
              "4  Day 1 of @DataFestAfrica , I won a 4G Mifi and...  Ile Ife Nigeria   \n",
              "5  I enjoyed all the sessions at #datafestafrica2...    Lagos Nigeria   \n",
              "6  Day 1 of @DataFestAfrica event went beyond my ...      No location   \n",
              "7  Day 1 of @DataFestAfrica\\n\\nLearnt a number of...          Nigeria   \n",
              "8  Day 1 of @DataFestAfrica done with my cute han...            Lagos   \n",
              "9  This is probably a weird observation, but the ...           Remote   \n",
              "\n",
              "   retweets  favorites                    Hashtags  \\\n",
              "0         0          0           #datafestafrica22   \n",
              "1         1          9                      #dfa22   \n",
              "2         0          1    #datafestafrica22 #dfc22   \n",
              "3         1          8                         NaN   \n",
              "4         0          1         #datafestafrica2022   \n",
              "5         0          0         #datafestafrica2022   \n",
              "6         2         15  #datafestafrica2022 #dfa22   \n",
              "7         0          1                         NaN   \n",
              "8         0          3  #dfa22 #datafestafrica2022   \n",
              "9         0          8                         NaN   \n",
              "\n",
              "                                     processed_tweet tweet_sentiment  \n",
              "0  despite spending hours traffic way still felt ...        positive  \n",
              "1  key points took need curious consistent thrive...        positive  \n",
              "2  ill tweet full experience post linkedin thread...        negative  \n",
              "3  hosting maiden edition fantastic outing dare s...        positive  \n",
              "4  mifi guess lucky winner tomorrow also met beau...        positive  \n",
              "5  enjoyed sessions met new people great people m...        positive  \n",
              "6  event went beyond expectations premium content...        positive  \n",
              "7  learnt number things met people nice meeting t...        positive  \n",
              "8  done cute handsome infant lets assemble tomorr...        positive  \n",
              "9  probably weird observation women amazing hair ...        positive  "
            ],
            "text/html": [
              "\n",
              "  <div id=\"df-b3555a58-e0b6-44bb-9940-8655f60fe758\">\n",
              "    <div class=\"colab-df-container\">\n",
              "      <div>\n",
              "<style scoped>\n",
              "    .dataframe tbody tr th:only-of-type {\n",
              "        vertical-align: middle;\n",
              "    }\n",
              "\n",
              "    .dataframe tbody tr th {\n",
              "        vertical-align: top;\n",
              "    }\n",
              "\n",
              "    .dataframe thead th {\n",
              "        text-align: right;\n",
              "    }\n",
              "</style>\n",
              "<table border=\"1\" class=\"dataframe\">\n",
              "  <thead>\n",
              "    <tr style=\"text-align: right;\">\n",
              "      <th></th>\n",
              "      <th>tweet_id</th>\n",
              "      <th>created_at</th>\n",
              "      <th>tweets</th>\n",
              "      <th>location</th>\n",
              "      <th>retweets</th>\n",
              "      <th>favorites</th>\n",
              "      <th>Hashtags</th>\n",
              "      <th>processed_tweet</th>\n",
              "      <th>tweet_sentiment</th>\n",
              "    </tr>\n",
              "  </thead>\n",
              "  <tbody>\n",
              "    <tr>\n",
              "      <th>0</th>\n",
              "      <td>1581028831208493056</td>\n",
              "      <td>2022-10-14 21:07:02</td>\n",
              "      <td>Day 01/ 2 of #DataFestAfrica22.\\n\\nDespite spe...</td>\n",
              "      <td>Nigeria</td>\n",
              "      <td>0</td>\n",
              "      <td>0</td>\n",
              "      <td>#datafestafrica22</td>\n",
              "      <td>despite spending hours traffic way still felt ...</td>\n",
              "      <td>positive</td>\n",
              "    </tr>\n",
              "    <tr>\n",
              "      <th>1</th>\n",
              "      <td>1581027112613396480</td>\n",
              "      <td>2022-10-14 21:00:12</td>\n",
              "      <td>Day 1 ☑️\\nSome key points I took down yea🤗\\n📍Y...</td>\n",
              "      <td>Lagos Nigeria</td>\n",
              "      <td>1</td>\n",
              "      <td>9</td>\n",
              "      <td>#dfa22</td>\n",
              "      <td>key points took need curious consistent thrive...</td>\n",
              "      <td>positive</td>\n",
              "    </tr>\n",
              "    <tr>\n",
              "      <th>2</th>\n",
              "      <td>1581027078182273024</td>\n",
              "      <td>2022-10-14 21:00:04</td>\n",
              "      <td>It's on Sunday I'll tweet my full experience a...</td>\n",
              "      <td>Canigerda</td>\n",
              "      <td>0</td>\n",
              "      <td>1</td>\n",
              "      <td>#datafestafrica22 #dfc22</td>\n",
              "      <td>ill tweet full experience post linkedin thread...</td>\n",
              "      <td>negative</td>\n",
              "    </tr>\n",
              "    <tr>\n",
              "      <th>3</th>\n",
              "      <td>1581025104037052416</td>\n",
              "      <td>2022-10-14 20:52:13</td>\n",
              "      <td>Hosting the maiden edition of @DataFestAfrica ...</td>\n",
              "      <td>Tired</td>\n",
              "      <td>1</td>\n",
              "      <td>8</td>\n",
              "      <td>NaN</td>\n",
              "      <td>hosting maiden edition fantastic outing dare s...</td>\n",
              "      <td>positive</td>\n",
              "    </tr>\n",
              "    <tr>\n",
              "      <th>4</th>\n",
              "      <td>1581025082692227072</td>\n",
              "      <td>2022-10-14 20:52:08</td>\n",
              "      <td>Day 1 of @DataFestAfrica , I won a 4G Mifi and...</td>\n",
              "      <td>Ile Ife Nigeria</td>\n",
              "      <td>0</td>\n",
              "      <td>1</td>\n",
              "      <td>#datafestafrica2022</td>\n",
              "      <td>mifi guess lucky winner tomorrow also met beau...</td>\n",
              "      <td>positive</td>\n",
              "    </tr>\n",
              "    <tr>\n",
              "      <th>5</th>\n",
              "      <td>1581024723068391424</td>\n",
              "      <td>2022-10-14 20:50:42</td>\n",
              "      <td>I enjoyed all the sessions at #datafestafrica2...</td>\n",
              "      <td>Lagos Nigeria</td>\n",
              "      <td>0</td>\n",
              "      <td>0</td>\n",
              "      <td>#datafestafrica2022</td>\n",
              "      <td>enjoyed sessions met new people great people m...</td>\n",
              "      <td>positive</td>\n",
              "    </tr>\n",
              "    <tr>\n",
              "      <th>6</th>\n",
              "      <td>1581024098146455553</td>\n",
              "      <td>2022-10-14 20:48:13</td>\n",
              "      <td>Day 1 of @DataFestAfrica event went beyond my ...</td>\n",
              "      <td>No location</td>\n",
              "      <td>2</td>\n",
              "      <td>15</td>\n",
              "      <td>#datafestafrica2022 #dfa22</td>\n",
              "      <td>event went beyond expectations premium content...</td>\n",
              "      <td>positive</td>\n",
              "    </tr>\n",
              "    <tr>\n",
              "      <th>7</th>\n",
              "      <td>1581023590182318080</td>\n",
              "      <td>2022-10-14 20:46:12</td>\n",
              "      <td>Day 1 of @DataFestAfrica\\n\\nLearnt a number of...</td>\n",
              "      <td>Nigeria</td>\n",
              "      <td>0</td>\n",
              "      <td>1</td>\n",
              "      <td>NaN</td>\n",
              "      <td>learnt number things met people nice meeting t...</td>\n",
              "      <td>positive</td>\n",
              "    </tr>\n",
              "    <tr>\n",
              "      <th>8</th>\n",
              "      <td>1581021239984156672</td>\n",
              "      <td>2022-10-14 20:36:52</td>\n",
              "      <td>Day 1 of @DataFestAfrica done with my cute han...</td>\n",
              "      <td>Lagos</td>\n",
              "      <td>0</td>\n",
              "      <td>3</td>\n",
              "      <td>#dfa22 #datafestafrica2022</td>\n",
              "      <td>done cute handsome infant lets assemble tomorr...</td>\n",
              "      <td>positive</td>\n",
              "    </tr>\n",
              "    <tr>\n",
              "      <th>9</th>\n",
              "      <td>1581019725709987841</td>\n",
              "      <td>2022-10-14 20:30:51</td>\n",
              "      <td>This is probably a weird observation, but the ...</td>\n",
              "      <td>Remote</td>\n",
              "      <td>0</td>\n",
              "      <td>8</td>\n",
              "      <td>NaN</td>\n",
              "      <td>probably weird observation women amazing hair ...</td>\n",
              "      <td>positive</td>\n",
              "    </tr>\n",
              "  </tbody>\n",
              "</table>\n",
              "</div>\n",
              "      <button class=\"colab-df-convert\" onclick=\"convertToInteractive('df-b3555a58-e0b6-44bb-9940-8655f60fe758')\"\n",
              "              title=\"Convert this dataframe to an interactive table.\"\n",
              "              style=\"display:none;\">\n",
              "        \n",
              "  <svg xmlns=\"http://www.w3.org/2000/svg\" height=\"24px\"viewBox=\"0 0 24 24\"\n",
              "       width=\"24px\">\n",
              "    <path d=\"M0 0h24v24H0V0z\" fill=\"none\"/>\n",
              "    <path d=\"M18.56 5.44l.94 2.06.94-2.06 2.06-.94-2.06-.94-.94-2.06-.94 2.06-2.06.94zm-11 1L8.5 8.5l.94-2.06 2.06-.94-2.06-.94L8.5 2.5l-.94 2.06-2.06.94zm10 10l.94 2.06.94-2.06 2.06-.94-2.06-.94-.94-2.06-.94 2.06-2.06.94z\"/><path d=\"M17.41 7.96l-1.37-1.37c-.4-.4-.92-.59-1.43-.59-.52 0-1.04.2-1.43.59L10.3 9.45l-7.72 7.72c-.78.78-.78 2.05 0 2.83L4 21.41c.39.39.9.59 1.41.59.51 0 1.02-.2 1.41-.59l7.78-7.78 2.81-2.81c.8-.78.8-2.07 0-2.86zM5.41 20L4 18.59l7.72-7.72 1.47 1.35L5.41 20z\"/>\n",
              "  </svg>\n",
              "      </button>\n",
              "      \n",
              "  <style>\n",
              "    .colab-df-container {\n",
              "      display:flex;\n",
              "      flex-wrap:wrap;\n",
              "      gap: 12px;\n",
              "    }\n",
              "\n",
              "    .colab-df-convert {\n",
              "      background-color: #E8F0FE;\n",
              "      border: none;\n",
              "      border-radius: 50%;\n",
              "      cursor: pointer;\n",
              "      display: none;\n",
              "      fill: #1967D2;\n",
              "      height: 32px;\n",
              "      padding: 0 0 0 0;\n",
              "      width: 32px;\n",
              "    }\n",
              "\n",
              "    .colab-df-convert:hover {\n",
              "      background-color: #E2EBFA;\n",
              "      box-shadow: 0px 1px 2px rgba(60, 64, 67, 0.3), 0px 1px 3px 1px rgba(60, 64, 67, 0.15);\n",
              "      fill: #174EA6;\n",
              "    }\n",
              "\n",
              "    [theme=dark] .colab-df-convert {\n",
              "      background-color: #3B4455;\n",
              "      fill: #D2E3FC;\n",
              "    }\n",
              "\n",
              "    [theme=dark] .colab-df-convert:hover {\n",
              "      background-color: #434B5C;\n",
              "      box-shadow: 0px 1px 3px 1px rgba(0, 0, 0, 0.15);\n",
              "      filter: drop-shadow(0px 1px 2px rgba(0, 0, 0, 0.3));\n",
              "      fill: #FFFFFF;\n",
              "    }\n",
              "  </style>\n",
              "\n",
              "      <script>\n",
              "        const buttonEl =\n",
              "          document.querySelector('#df-b3555a58-e0b6-44bb-9940-8655f60fe758 button.colab-df-convert');\n",
              "        buttonEl.style.display =\n",
              "          google.colab.kernel.accessAllowed ? 'block' : 'none';\n",
              "\n",
              "        async function convertToInteractive(key) {\n",
              "          const element = document.querySelector('#df-b3555a58-e0b6-44bb-9940-8655f60fe758');\n",
              "          const dataTable =\n",
              "            await google.colab.kernel.invokeFunction('convertToInteractive',\n",
              "                                                     [key], {});\n",
              "          if (!dataTable) return;\n",
              "\n",
              "          const docLinkHtml = 'Like what you see? Visit the ' +\n",
              "            '<a target=\"_blank\" href=https://colab.research.google.com/notebooks/data_table.ipynb>data table notebook</a>'\n",
              "            + ' to learn more about interactive tables.';\n",
              "          element.innerHTML = '';\n",
              "          dataTable['output_type'] = 'display_data';\n",
              "          await google.colab.output.renderOutput(dataTable, element);\n",
              "          const docLink = document.createElement('div');\n",
              "          docLink.innerHTML = docLinkHtml;\n",
              "          element.appendChild(docLink);\n",
              "        }\n",
              "      </script>\n",
              "    </div>\n",
              "  </div>\n",
              "  "
            ]
          },
          "metadata": {},
          "execution_count": 8
        }
      ],
      "source": [
        "datafest_data.head(10)"
      ]
    },
    {
      "cell_type": "markdown",
      "source": [],
      "metadata": {
        "id": "uzsPaAgb-DnR"
      },
      "id": "uzsPaAgb-DnR"
    },
    {
      "cell_type": "code",
      "execution_count": 12,
      "id": "081c39dc",
      "metadata": {
        "colab": {
          "base_uri": "https://localhost:8080/"
        },
        "id": "081c39dc",
        "outputId": "fdd58907-b42e-4c77-ca41-bfbd8aa123f7"
      },
      "outputs": [
        {
          "output_type": "execute_result",
          "data": {
            "text/plain": [
              "positive    1234\n",
              "neutral      936\n",
              "negative     164\n",
              "Name: tweet_sentiment, dtype: int64"
            ]
          },
          "metadata": {},
          "execution_count": 12
        }
      ],
      "source": [
        "datafest_data['tweet_sentiment'].value_counts()"
      ]
    },
    {
      "cell_type": "code",
      "source": [
        "#group the data by the dog_stage column\n",
        "sentiment_group = datafest_data.groupby('tweet_sentiment').size().reset_index(\n",
        "    name=\"count\").sort_values(\"count\", axis = 0, ascending = False)\n",
        "\n",
        "plt.rcParams[\"figure.figsize\"] = (6,4) #set figure size\n",
        "sns.barplot(x='tweet_sentiment', y='count', data = sentiment_group)\n",
        "plt.title('sentiment analysis', fontsize=14)\n",
        "plt.xlabel('tweet sentiment', size=12)\n",
        "plt.ylabel('count', size=12)\n",
        "plt.show()"
      ],
      "metadata": {
        "colab": {
          "base_uri": "https://localhost:8080/",
          "height": 299
        },
        "id": "WFgj0oiA-C8Q",
        "outputId": "90df61ae-2700-4681-d06e-ee457e877dbf"
      },
      "id": "WFgj0oiA-C8Q",
      "execution_count": 20,
      "outputs": [
        {
          "output_type": "display_data",
          "data": {
            "text/plain": [
              "<Figure size 432x288 with 1 Axes>"
            ],
            "image/png": "[encoded data removed]"
          },
          "metadata": {
            "needs_background": "light"
          }
        }
      ]
    },
    {
      "cell_type": "code",
      "source": [
        "#export the csv file\n",
        "datafest_data.to_csv('processed_tweets.csv', index = False)"
      ],
      "metadata": {
        "id": "evvenIxZrHS7"
      },
      "id": "evvenIxZrHS7",
      "execution_count": null,
      "outputs": []
    }
  ],
  "metadata": {
    "kernelspec": {
      "display_name": "Python 3 (ipykernel)",
      "language": "python",
      "name": "python3"
    },
    "language_info": {
      "codemirror_mode": {
        "name": "ipython",
        "version": 3
      },
      "file_extension": ".py",
      "mimetype": "text/x-python",
      "name": "python",
      "nbconvert_exporter": "python",
      "pygments_lexer": "ipython3",
      "version": "3.9.7"
    },
    "colab": {
      "provenance": [],
      "collapsed_sections": []
    }
  },
  "nbformat": 4,
  "nbformat_minor": 5
}